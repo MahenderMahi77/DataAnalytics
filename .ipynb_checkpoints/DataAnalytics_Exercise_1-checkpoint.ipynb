{
 "cells": [
  {
   "cell_type": "markdown",
   "id": "1d808067-b16b-432c-8303-7f0a26db21a3",
   "metadata": {},
   "source": [
    "Python Exercise 1"
   ]
  },
  {
   "cell_type": "code",
   "execution_count": 16,
   "id": "a59e39dc-e36e-429e-bc82-7cbde4db50be",
   "metadata": {
    "tags": []
   },
   "outputs": [],
   "source": [
    "fruits = ['Apple','Banana','Pineapple','Guava','Grapes']"
   ]
  },
  {
   "cell_type": "code",
   "execution_count": 17,
   "id": "850298e6-aa60-4415-86d3-6452f2630ad9",
   "metadata": {
    "tags": []
   },
   "outputs": [
    {
     "data": {
      "text/plain": [
       "['Apple', 'Banana', 'Pineapple']"
      ]
     },
     "execution_count": 17,
     "metadata": {},
     "output_type": "execute_result"
    }
   ],
   "source": [
    "fruits[:3]"
   ]
  },
  {
   "cell_type": "code",
   "execution_count": 18,
   "id": "437c7749-af50-474f-9b23-21c595d18076",
   "metadata": {
    "tags": []
   },
   "outputs": [],
   "source": [
    "fruits.append('Papaya')"
   ]
  },
  {
   "cell_type": "code",
   "execution_count": 19,
   "id": "485a0c45-f382-4001-aa8a-525af5a5ccc0",
   "metadata": {
    "tags": []
   },
   "outputs": [
    {
     "data": {
      "text/plain": [
       "['Apple', 'Banana', 'Pineapple', 'Guava', 'Grapes', 'Papaya']"
      ]
     },
     "execution_count": 19,
     "metadata": {},
     "output_type": "execute_result"
    }
   ],
   "source": [
    "fruits"
   ]
  },
  {
   "cell_type": "code",
   "execution_count": 20,
   "id": "745eb39b-c5e4-4ef3-9a64-5b36e801eab2",
   "metadata": {
    "tags": []
   },
   "outputs": [
    {
     "name": "stdout",
     "output_type": "stream",
     "text": [
      "Apple\n",
      "Banana\n",
      "Pineapple\n",
      "Guava\n",
      "Grapes\n",
      "Papaya\n"
     ]
    }
   ],
   "source": [
    "for x in fruits:\n",
    "    print(x)"
   ]
  },
  {
   "cell_type": "code",
   "execution_count": 31,
   "id": "56d258ce-8220-4c64-a383-0e8fd09526a1",
   "metadata": {
    "tags": []
   },
   "outputs": [
    {
     "name": "stdout",
     "output_type": "stream",
     "text": [
      "Papaya\n"
     ]
    }
   ],
   "source": [
    "fruit_dislike = 'Papaya'\n",
    "for x in fruits:\n",
    "    if x==fruit_dislike:\n",
    "        print(x)"
   ]
  },
  {
   "cell_type": "code",
   "execution_count": 1,
   "id": "5b778c0b-0ddf-4810-b37e-ab77c02a8435",
   "metadata": {},
   "outputs": [],
   "source": [
    "courses = {\n",
    "    \"Data Analytics\":\"8\",\n",
    "    \"SQL and Data Analsis\":\"8\",\n",
    "    \"Business Intelligence Tools\":\"10\",\n",
    "    \"Project Management\":\"9\"\n",
    "}"
   ]
  },
  {
   "cell_type": "code",
   "execution_count": 2,
   "id": "5b81f554-7f73-47c0-a394-dddd7038981e",
   "metadata": {
    "tags": []
   },
   "outputs": [],
   "source": [
    "courses.update({\"Big Data Analytics\":\"10\"})"
   ]
  },
  {
   "cell_type": "code",
   "execution_count": 4,
   "id": "fe5c0739-b82f-4e1d-a4ac-61f20de574d0",
   "metadata": {
    "tags": []
   },
   "outputs": [
    {
     "name": "stdout",
     "output_type": "stream",
     "text": [
      "Data Analytics\n",
      "SQL and Data Analsis\n",
      "Business Intelligence Tools\n",
      "Project Management\n",
      "Big Data Analytics\n"
     ]
    }
   ],
   "source": [
    "for x in courses.keys():\n",
    "    print(x)"
   ]
  },
  {
   "cell_type": "code",
   "execution_count": 6,
   "id": "ad0b6f0a-33db-4b50-9a89-8087bcbc6c4c",
   "metadata": {
    "tags": []
   },
   "outputs": [
    {
     "name": "stdout",
     "output_type": "stream",
     "text": [
      "8\n",
      "8\n",
      "10\n",
      "9\n",
      "10\n"
     ]
    }
   ],
   "source": [
    "for x in courses.values():\n",
    "    print(x)"
   ]
  },
  {
   "cell_type": "code",
   "execution_count": 7,
   "id": "c6b2c33d-f209-4d79-bd65-544ce17455fd",
   "metadata": {
    "tags": []
   },
   "outputs": [
    {
     "data": {
      "text/plain": [
       "{'Data Analytics': '8',\n",
       " 'SQL and Data Analsis': '8',\n",
       " 'Business Intelligence Tools': '10',\n",
       " 'Project Management': '9',\n",
       " 'Big Data Analytics': '10'}"
      ]
     },
     "execution_count": 7,
     "metadata": {},
     "output_type": "execute_result"
    }
   ],
   "source": [
    "courses"
   ]
  },
  {
   "cell_type": "code",
   "execution_count": 8,
   "id": "206b935f-55db-40a6-af7a-5a0f4c99434b",
   "metadata": {
    "tags": []
   },
   "outputs": [
    {
     "name": "stdout",
     "output_type": "stream",
     "text": [
      "Data Analytics 8\n",
      "SQL and Data Analsis 8\n",
      "Business Intelligence Tools 10\n",
      "Project Management 9\n",
      "Big Data Analytics 10\n"
     ]
    }
   ],
   "source": [
    "for x,y in courses.items():\n",
    "    print(x,y)"
   ]
  },
  {
   "cell_type": "code",
   "execution_count": null,
   "id": "8bdce4ab-5ce3-4926-9eb4-46db95c2bfa1",
   "metadata": {},
   "outputs": [],
   "source": []
  }
 ],
 "metadata": {
  "kernelspec": {
   "display_name": "Python 3 (ipykernel)",
   "language": "python",
   "name": "python3"
  },
  "language_info": {
   "codemirror_mode": {
    "name": "ipython",
    "version": 3
   },
   "file_extension": ".py",
   "mimetype": "text/x-python",
   "name": "python",
   "nbconvert_exporter": "python",
   "pygments_lexer": "ipython3",
   "version": "3.11.5"
  }
 },
 "nbformat": 4,
 "nbformat_minor": 5
}
