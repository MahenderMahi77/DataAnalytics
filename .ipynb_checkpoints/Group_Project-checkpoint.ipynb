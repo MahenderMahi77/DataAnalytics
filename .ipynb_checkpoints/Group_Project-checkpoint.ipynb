{
 "cells": [
  {
   "cell_type": "code",
   "execution_count": 1,
   "id": "f271eb08-e4d8-4170-9919-a08c8f7d9cce",
   "metadata": {
    "tags": []
   },
   "outputs": [],
   "source": [
    "import pandas as pd"
   ]
  },
  {
   "cell_type": "code",
   "execution_count": 7,
   "id": "43de60d3-3265-4fec-83da-abd98f81c2ab",
   "metadata": {
    "tags": []
   },
   "outputs": [],
   "source": [
    "stocks = pd.read_csv(r'C:\\Users\\SHASHI\\OneDrive\\Analytics\\Datasets\\Toronto-Stock-Exchange-Statistics\\10100125.csv')\n",
    "metadata = pd.read_csv(r'C:\\Users\\SHASHI\\OneDrive\\Analytics\\Datasets\\Toronto-Stock-Exchange-Statistics\\10100125_MetaData.csv')"
   ]
  },
  {
   "cell_type": "code",
   "execution_count": 3,
   "id": "9d46d7fa-3b3b-4c45-9e58-59dfb4f0ddf1",
   "metadata": {
    "tags": []
   },
   "outputs": [
    {
     "data": {
      "text/html": [
       "<div>\n",
       "<style scoped>\n",
       "    .dataframe tbody tr th:only-of-type {\n",
       "        vertical-align: middle;\n",
       "    }\n",
       "\n",
       "    .dataframe tbody tr th {\n",
       "        vertical-align: top;\n",
       "    }\n",
       "\n",
       "    .dataframe thead th {\n",
       "        text-align: right;\n",
       "    }\n",
       "</style>\n",
       "<table border=\"1\" class=\"dataframe\">\n",
       "  <thead>\n",
       "    <tr style=\"text-align: right;\">\n",
       "      <th></th>\n",
       "      <th>REF_DATE</th>\n",
       "      <th>GEO</th>\n",
       "      <th>DGUID</th>\n",
       "      <th>Toronto Stock Exchange Statistics</th>\n",
       "      <th>UOM</th>\n",
       "      <th>UOM_ID</th>\n",
       "      <th>SCALAR_FACTOR</th>\n",
       "      <th>SCALAR_ID</th>\n",
       "      <th>VECTOR</th>\n",
       "      <th>COORDINATE</th>\n",
       "      <th>VALUE</th>\n",
       "      <th>STATUS</th>\n",
       "      <th>SYMBOL</th>\n",
       "      <th>TERMINATED</th>\n",
       "      <th>DECIMALS</th>\n",
       "    </tr>\n",
       "  </thead>\n",
       "  <tbody>\n",
       "    <tr>\n",
       "      <th>0</th>\n",
       "      <td>1956-01</td>\n",
       "      <td>Canada</td>\n",
       "      <td>2016A000011124</td>\n",
       "      <td>Standard and Poor's/Toronto Stock Exchange Com...</td>\n",
       "      <td>Index, 2000=1000</td>\n",
       "      <td>176</td>\n",
       "      <td>units</td>\n",
       "      <td>0</td>\n",
       "      <td>v122620</td>\n",
       "      <td>1.3</td>\n",
       "      <td>525.63</td>\n",
       "      <td>NaN</td>\n",
       "      <td>NaN</td>\n",
       "      <td>NaN</td>\n",
       "      <td>2</td>\n",
       "    </tr>\n",
       "    <tr>\n",
       "      <th>1</th>\n",
       "      <td>1956-01</td>\n",
       "      <td>Canada</td>\n",
       "      <td>2016A000011124</td>\n",
       "      <td>Toronto Stock Exchange, oil and gas, closing q...</td>\n",
       "      <td>Index, 2000=1000</td>\n",
       "      <td>176</td>\n",
       "      <td>units</td>\n",
       "      <td>0</td>\n",
       "      <td>v122621</td>\n",
       "      <td>1.4</td>\n",
       "      <td>485.02</td>\n",
       "      <td>NaN</td>\n",
       "      <td>NaN</td>\n",
       "      <td>t</td>\n",
       "      <td>2</td>\n",
       "    </tr>\n",
       "    <tr>\n",
       "      <th>2</th>\n",
       "      <td>1956-01</td>\n",
       "      <td>Canada</td>\n",
       "      <td>2016A000011124</td>\n",
       "      <td>Toronto Stock Exchange, metals and minerals, c...</td>\n",
       "      <td>Index, 2000=1000</td>\n",
       "      <td>176</td>\n",
       "      <td>units</td>\n",
       "      <td>0</td>\n",
       "      <td>v122622</td>\n",
       "      <td>1.5</td>\n",
       "      <td>729.73</td>\n",
       "      <td>NaN</td>\n",
       "      <td>NaN</td>\n",
       "      <td>t</td>\n",
       "      <td>2</td>\n",
       "    </tr>\n",
       "    <tr>\n",
       "      <th>3</th>\n",
       "      <td>1956-01</td>\n",
       "      <td>Canada</td>\n",
       "      <td>2016A000011124</td>\n",
       "      <td>Toronto Stock Exchange, utilities, closing quo...</td>\n",
       "      <td>Index, 2000=1000</td>\n",
       "      <td>176</td>\n",
       "      <td>units</td>\n",
       "      <td>0</td>\n",
       "      <td>v122623</td>\n",
       "      <td>1.6</td>\n",
       "      <td>914.11</td>\n",
       "      <td>NaN</td>\n",
       "      <td>NaN</td>\n",
       "      <td>t</td>\n",
       "      <td>2</td>\n",
       "    </tr>\n",
       "    <tr>\n",
       "      <th>4</th>\n",
       "      <td>1956-01</td>\n",
       "      <td>Canada</td>\n",
       "      <td>2016A000011124</td>\n",
       "      <td>Toronto Stock Exchange, paper and forest produ...</td>\n",
       "      <td>Index, 2000=1000</td>\n",
       "      <td>176</td>\n",
       "      <td>units</td>\n",
       "      <td>0</td>\n",
       "      <td>v122624</td>\n",
       "      <td>1.7</td>\n",
       "      <td>1013.23</td>\n",
       "      <td>NaN</td>\n",
       "      <td>NaN</td>\n",
       "      <td>t</td>\n",
       "      <td>2</td>\n",
       "    </tr>\n",
       "  </tbody>\n",
       "</table>\n",
       "</div>"
      ],
      "text/plain": [
       "  REF_DATE     GEO           DGUID  \\\n",
       "0  1956-01  Canada  2016A000011124   \n",
       "1  1956-01  Canada  2016A000011124   \n",
       "2  1956-01  Canada  2016A000011124   \n",
       "3  1956-01  Canada  2016A000011124   \n",
       "4  1956-01  Canada  2016A000011124   \n",
       "\n",
       "                   Toronto Stock Exchange Statistics               UOM  \\\n",
       "0  Standard and Poor's/Toronto Stock Exchange Com...  Index, 2000=1000   \n",
       "1  Toronto Stock Exchange, oil and gas, closing q...  Index, 2000=1000   \n",
       "2  Toronto Stock Exchange, metals and minerals, c...  Index, 2000=1000   \n",
       "3  Toronto Stock Exchange, utilities, closing quo...  Index, 2000=1000   \n",
       "4  Toronto Stock Exchange, paper and forest produ...  Index, 2000=1000   \n",
       "\n",
       "   UOM_ID SCALAR_FACTOR  SCALAR_ID   VECTOR  COORDINATE    VALUE STATUS  \\\n",
       "0     176         units          0  v122620         1.3   525.63    NaN   \n",
       "1     176         units          0  v122621         1.4   485.02    NaN   \n",
       "2     176         units          0  v122622         1.5   729.73    NaN   \n",
       "3     176         units          0  v122623         1.6   914.11    NaN   \n",
       "4     176         units          0  v122624         1.7  1013.23    NaN   \n",
       "\n",
       "   SYMBOL TERMINATED  DECIMALS  \n",
       "0     NaN        NaN         2  \n",
       "1     NaN          t         2  \n",
       "2     NaN          t         2  \n",
       "3     NaN          t         2  \n",
       "4     NaN          t         2  "
      ]
     },
     "execution_count": 3,
     "metadata": {},
     "output_type": "execute_result"
    }
   ],
   "source": [
    "stocks.head()"
   ]
  },
  {
   "cell_type": "code",
   "execution_count": 8,
   "id": "d97a3910-be27-4932-ae2d-ea543a298ca6",
   "metadata": {
    "tags": []
   },
   "outputs": [
    {
     "data": {
      "text/html": [
       "<div>\n",
       "<style scoped>\n",
       "    .dataframe tbody tr th:only-of-type {\n",
       "        vertical-align: middle;\n",
       "    }\n",
       "\n",
       "    .dataframe tbody tr th {\n",
       "        vertical-align: top;\n",
       "    }\n",
       "\n",
       "    .dataframe thead th {\n",
       "        text-align: right;\n",
       "    }\n",
       "</style>\n",
       "<table border=\"1\" class=\"dataframe\">\n",
       "  <thead>\n",
       "    <tr style=\"text-align: right;\">\n",
       "      <th></th>\n",
       "      <th>Cube Title</th>\n",
       "      <th>Product Id</th>\n",
       "      <th>CANSIM Id</th>\n",
       "      <th>URL</th>\n",
       "      <th>Cube Notes</th>\n",
       "      <th>Archive Status</th>\n",
       "      <th>Frequency</th>\n",
       "      <th>Start Reference Period</th>\n",
       "      <th>End Reference Period</th>\n",
       "      <th>Total number of dimensions</th>\n",
       "    </tr>\n",
       "  </thead>\n",
       "  <tbody>\n",
       "    <tr>\n",
       "      <th>1</th>\n",
       "      <td>As of January 2017, this data is obtained from...</td>\n",
       "      <td>NaN</td>\n",
       "      <td>NaN</td>\n",
       "      <td>NaN</td>\n",
       "      <td>NaN</td>\n",
       "      <td>NaN</td>\n",
       "      <td>NaN</td>\n",
       "      <td>NaN</td>\n",
       "      <td>NaN</td>\n",
       "      <td>NaN</td>\n",
       "    </tr>\n",
       "    <tr>\n",
       "      <th>2</th>\n",
       "      <td>Beginning in August 2001 the price earning rat...</td>\n",
       "      <td>NaN</td>\n",
       "      <td>NaN</td>\n",
       "      <td>NaN</td>\n",
       "      <td>NaN</td>\n",
       "      <td>NaN</td>\n",
       "      <td>NaN</td>\n",
       "      <td>NaN</td>\n",
       "      <td>NaN</td>\n",
       "      <td>NaN</td>\n",
       "    </tr>\n",
       "    <tr>\n",
       "      <th>3</th>\n",
       "      <td>Prior to January 2017, the information present...</td>\n",
       "      <td>NaN</td>\n",
       "      <td>NaN</td>\n",
       "      <td>NaN</td>\n",
       "      <td>NaN</td>\n",
       "      <td>NaN</td>\n",
       "      <td>NaN</td>\n",
       "      <td>NaN</td>\n",
       "      <td>NaN</td>\n",
       "      <td>NaN</td>\n",
       "    </tr>\n",
       "    <tr>\n",
       "      <th>4</th>\n",
       "      <td>Please note that this table is no longer being...</td>\n",
       "      <td>NaN</td>\n",
       "      <td>NaN</td>\n",
       "      <td>NaN</td>\n",
       "      <td>NaN</td>\n",
       "      <td>NaN</td>\n",
       "      <td>NaN</td>\n",
       "      <td>NaN</td>\n",
       "      <td>NaN</td>\n",
       "      <td>NaN</td>\n",
       "    </tr>\n",
       "    <tr>\n",
       "      <th>Correction ID</th>\n",
       "      <td>Correction Date</td>\n",
       "      <td>Correction Note</td>\n",
       "      <td>NaN</td>\n",
       "      <td>NaN</td>\n",
       "      <td>NaN</td>\n",
       "      <td>NaN</td>\n",
       "      <td>NaN</td>\n",
       "      <td>NaN</td>\n",
       "      <td>NaN</td>\n",
       "      <td>NaN</td>\n",
       "    </tr>\n",
       "  </tbody>\n",
       "</table>\n",
       "</div>"
      ],
      "text/plain": [
       "                                                      Cube Title  \\\n",
       "1              As of January 2017, this data is obtained from...   \n",
       "2              Beginning in August 2001 the price earning rat...   \n",
       "3              Prior to January 2017, the information present...   \n",
       "4              Please note that this table is no longer being...   \n",
       "Correction ID                                    Correction Date   \n",
       "\n",
       "                    Product Id CANSIM Id  URL Cube Notes Archive Status  \\\n",
       "1                          NaN       NaN  NaN        NaN            NaN   \n",
       "2                          NaN       NaN  NaN        NaN            NaN   \n",
       "3                          NaN       NaN  NaN        NaN            NaN   \n",
       "4                          NaN       NaN  NaN        NaN            NaN   \n",
       "Correction ID  Correction Note       NaN  NaN        NaN            NaN   \n",
       "\n",
       "              Frequency Start Reference Period  End Reference Period  \\\n",
       "1                   NaN                    NaN                   NaN   \n",
       "2                   NaN                    NaN                   NaN   \n",
       "3                   NaN                    NaN                   NaN   \n",
       "4                   NaN                    NaN                   NaN   \n",
       "Correction ID       NaN                    NaN                   NaN   \n",
       "\n",
       "               Total number of dimensions  \n",
       "1                                     NaN  \n",
       "2                                     NaN  \n",
       "3                                     NaN  \n",
       "4                                     NaN  \n",
       "Correction ID                         NaN  "
      ]
     },
     "execution_count": 8,
     "metadata": {},
     "output_type": "execute_result"
    }
   ],
   "source": [
    "metadata.tail()"
   ]
  },
  {
   "cell_type": "code",
   "execution_count": 5,
   "id": "ede349bf-8fe0-4a37-8cdd-0a53295863d9",
   "metadata": {
    "tags": []
   },
   "outputs": [
    {
     "data": {
      "text/plain": [
       "Index(['REF_DATE', 'GEO', 'DGUID', 'Toronto Stock Exchange Statistics', 'UOM',\n",
       "       'UOM_ID', 'SCALAR_FACTOR', 'SCALAR_ID', 'VECTOR', 'COORDINATE', 'VALUE',\n",
       "       'STATUS', 'SYMBOL', 'TERMINATED', 'DECIMALS'],\n",
       "      dtype='object')"
      ]
     },
     "execution_count": 5,
     "metadata": {},
     "output_type": "execute_result"
    }
   ],
   "source": [
    "stocks.columns"
   ]
  },
  {
   "cell_type": "code",
   "execution_count": 6,
   "id": "c605f5a4-2986-4c19-aeb4-10e91e238c84",
   "metadata": {
    "tags": []
   },
   "outputs": [
    {
     "data": {
      "text/plain": [
       "REF_DATE                             0.000000\n",
       "GEO                                  0.000000\n",
       "DGUID                                0.000000\n",
       "Toronto Stock Exchange Statistics    0.000000\n",
       "UOM                                  0.000000\n",
       "UOM_ID                               0.000000\n",
       "SCALAR_FACTOR                        0.000000\n",
       "SCALAR_ID                            0.000000\n",
       "VECTOR                               0.000000\n",
       "COORDINATE                           0.000000\n",
       "VALUE                                0.001225\n",
       "STATUS                               0.998775\n",
       "SYMBOL                               1.000000\n",
       "TERMINATED                           0.486524\n",
       "DECIMALS                             0.000000\n",
       "dtype: float64"
      ]
     },
     "execution_count": 6,
     "metadata": {},
     "output_type": "execute_result"
    }
   ],
   "source": [
    "stocks.isnull().sum()/stocks.shape[0]"
   ]
  },
  {
   "cell_type": "code",
   "execution_count": 9,
   "id": "08ecb30e-0dce-4fd9-94d3-6f0268315ff7",
   "metadata": {
    "tags": []
   },
   "outputs": [
    {
     "data": {
      "text/plain": [
       "Index(['Cube Title', 'Product Id', 'CANSIM Id', 'URL', 'Cube Notes',\n",
       "       'Archive Status', 'Frequency', 'Start Reference Period',\n",
       "       'End Reference Period', 'Total number of dimensions'],\n",
       "      dtype='object')"
      ]
     },
     "execution_count": 9,
     "metadata": {},
     "output_type": "execute_result"
    }
   ],
   "source": [
    "metadata.columns"
   ]
  },
  {
   "cell_type": "code",
   "execution_count": 12,
   "id": "c315d69f-7427-4361-b84f-fee14e1f21df",
   "metadata": {
    "tags": []
   },
   "outputs": [
    {
     "data": {
      "text/plain": [
       "(57, 10)"
      ]
     },
     "execution_count": 12,
     "metadata": {},
     "output_type": "execute_result"
    }
   ],
   "source": [
    "metadata.shape"
   ]
  },
  {
   "cell_type": "code",
   "execution_count": 11,
   "id": "c681c159-37af-425e-8b92-ad8aee219835",
   "metadata": {
    "tags": []
   },
   "outputs": [
    {
     "data": {
      "text/plain": [
       "Cube Title                    0.017544\n",
       "Product Id                    0.912281\n",
       "CANSIM Id                     0.491228\n",
       "URL                           0.964912\n",
       "Cube Notes                    0.771930\n",
       "Archive Status                0.947368\n",
       "Frequency                     0.964912\n",
       "Start Reference Period        0.982456\n",
       "End Reference Period          0.982456\n",
       "Total number of dimensions    1.000000\n",
       "dtype: float64"
      ]
     },
     "execution_count": 11,
     "metadata": {},
     "output_type": "execute_result"
    }
   ],
   "source": [
    "metadata.isnull().sum()/metadata.shape[0]"
   ]
  },
  {
   "cell_type": "code",
   "execution_count": 13,
   "id": "336aeae8-02f9-47e0-ae31-165436a5f532",
   "metadata": {
    "tags": []
   },
   "outputs": [
    {
     "data": {
      "text/plain": [
       "(11428, 15)"
      ]
     },
     "execution_count": 13,
     "metadata": {},
     "output_type": "execute_result"
    }
   ],
   "source": [
    "stocks.shape"
   ]
  },
  {
   "cell_type": "code",
   "execution_count": 14,
   "id": "56340e41-038a-434d-aa87-5699438b4015",
   "metadata": {
    "tags": []
   },
   "outputs": [
    {
     "data": {
      "text/plain": [
       "Toronto Stock Exchange Statistics\n",
       "Standard and Poor's/Toronto Stock Exchange Composite Index, close                          813\n",
       "Toronto Stock Exchange, stock dividend yields (composite), closing quotations              729\n",
       "Toronto Stock Exchange, price earnings ratio, closing quotations                           729\n",
       "Standard and Poor's/Toronto Stock Exchange Composite Index, high                           573\n",
       "Standard and Poor's/Toronto Stock Exchange Composite Index, low                            573\n",
       "Toronto Stock Exchange, oil and gas, closing quotations                                    570\n",
       "Toronto Stock Exchange, metals and minerals, closing quotations                            570\n",
       "Toronto Stock Exchange, utilities, closing quotations                                      570\n",
       "Toronto Stock Exchange, paper and forest products, closing quotations                      570\n",
       "Toronto Stock Exchange, merchandising, closing quotations                                  570\n",
       "Toronto Stock Exchange, financial services, closing quotations                             570\n",
       "Toronto Stock Exchange, gold and silver, closing quotations                                570\n",
       "Standard and Poor's/Toronto Stock Exchange 60 Index                                        501\n",
       "Standard and Poor's/Toronto Stock Exchange Canadian Consumer Discretionary Index           310\n",
       "Standard and Poor's/Toronto Stock Exchange Canadian Consumer Staples Index                 310\n",
       "Standard and Poor's/Toronto Stock Exchange Canadian Energy Index                           310\n",
       "Standard and Poor's/Toronto Stock Exchange Canadian Financial Index                        310\n",
       "Standard and Poor's/Toronto Stock Exchange Canadian Gold Index                             310\n",
       "Standard and Poor's/Toronto Stock Exchange Canadian Industrial Index                       310\n",
       "Standard and Poor's/Toronto Stock Exchange Canadian Information Technology Index           310\n",
       "Standard and Poor's/Toronto Stock Exchange Canadian Materials Index                        310\n",
       "Standard and Poor's/Toronto Stock Exchange Canadian Telecommunication Service Index        310\n",
       "Standard and Poor's/Toronto Stock Exchange Canadian Utilities Index                        310\n",
       "Standard and Poor's/Toronto Stock Exchange Canadian Diversified Metals and Mining Index    224\n",
       "Toronto Stock Exchange, Toronto 35 index, closing quotations (May 27 1987=100)             196\n",
       "Name: count, dtype: int64"
      ]
     },
     "execution_count": 14,
     "metadata": {},
     "output_type": "execute_result"
    }
   ],
   "source": [
    "stocks['Toronto Stock Exchange Statistics'].value_counts()"
   ]
  },
  {
   "cell_type": "code",
   "execution_count": 15,
   "id": "4e501be7-8412-4b64-802d-08e6c04e73f3",
   "metadata": {
    "tags": []
   },
   "outputs": [
    {
     "data": {
      "text/html": [
       "<div>\n",
       "<style scoped>\n",
       "    .dataframe tbody tr th:only-of-type {\n",
       "        vertical-align: middle;\n",
       "    }\n",
       "\n",
       "    .dataframe tbody tr th {\n",
       "        vertical-align: top;\n",
       "    }\n",
       "\n",
       "    .dataframe thead th {\n",
       "        text-align: right;\n",
       "    }\n",
       "</style>\n",
       "<table border=\"1\" class=\"dataframe\">\n",
       "  <thead>\n",
       "    <tr style=\"text-align: right;\">\n",
       "      <th></th>\n",
       "      <th>UOM_ID</th>\n",
       "      <th>SCALAR_ID</th>\n",
       "      <th>COORDINATE</th>\n",
       "      <th>VALUE</th>\n",
       "      <th>SYMBOL</th>\n",
       "      <th>DECIMALS</th>\n",
       "    </tr>\n",
       "  </thead>\n",
       "  <tbody>\n",
       "    <tr>\n",
       "      <th>count</th>\n",
       "      <td>11428.000000</td>\n",
       "      <td>11428.0</td>\n",
       "      <td>11428.000000</td>\n",
       "      <td>11414.000000</td>\n",
       "      <td>0.0</td>\n",
       "      <td>11428.000000</td>\n",
       "    </tr>\n",
       "    <tr>\n",
       "      <th>mean</th>\n",
       "      <td>180.385457</td>\n",
       "      <td>0.0</td>\n",
       "      <td>1.316880</td>\n",
       "      <td>2759.879597</td>\n",
       "      <td>NaN</td>\n",
       "      <td>1.965698</td>\n",
       "    </tr>\n",
       "    <tr>\n",
       "      <th>std</th>\n",
       "      <td>29.795304</td>\n",
       "      <td>0.0</td>\n",
       "      <td>0.242578</td>\n",
       "      <td>5500.300528</td>\n",
       "      <td>NaN</td>\n",
       "      <td>0.259678</td>\n",
       "    </tr>\n",
       "    <tr>\n",
       "      <th>min</th>\n",
       "      <td>160.000000</td>\n",
       "      <td>0.0</td>\n",
       "      <td>1.100000</td>\n",
       "      <td>0.980000</td>\n",
       "      <td>NaN</td>\n",
       "      <td>0.000000</td>\n",
       "    </tr>\n",
       "    <tr>\n",
       "      <th>25%</th>\n",
       "      <td>160.000000</td>\n",
       "      <td>0.0</td>\n",
       "      <td>1.140000</td>\n",
       "      <td>142.572500</td>\n",
       "      <td>NaN</td>\n",
       "      <td>2.000000</td>\n",
       "    </tr>\n",
       "    <tr>\n",
       "      <th>50%</th>\n",
       "      <td>176.000000</td>\n",
       "      <td>0.0</td>\n",
       "      <td>1.200000</td>\n",
       "      <td>682.505000</td>\n",
       "      <td>NaN</td>\n",
       "      <td>2.000000</td>\n",
       "    </tr>\n",
       "    <tr>\n",
       "      <th>75%</th>\n",
       "      <td>176.000000</td>\n",
       "      <td>0.0</td>\n",
       "      <td>1.400000</td>\n",
       "      <td>3068.190000</td>\n",
       "      <td>NaN</td>\n",
       "      <td>2.000000</td>\n",
       "    </tr>\n",
       "    <tr>\n",
       "      <th>max</th>\n",
       "      <td>270.000000</td>\n",
       "      <td>0.0</td>\n",
       "      <td>1.900000</td>\n",
       "      <td>59478.000000</td>\n",
       "      <td>NaN</td>\n",
       "      <td>2.000000</td>\n",
       "    </tr>\n",
       "  </tbody>\n",
       "</table>\n",
       "</div>"
      ],
      "text/plain": [
       "             UOM_ID  SCALAR_ID    COORDINATE         VALUE  SYMBOL  \\\n",
       "count  11428.000000    11428.0  11428.000000  11414.000000     0.0   \n",
       "mean     180.385457        0.0      1.316880   2759.879597     NaN   \n",
       "std       29.795304        0.0      0.242578   5500.300528     NaN   \n",
       "min      160.000000        0.0      1.100000      0.980000     NaN   \n",
       "25%      160.000000        0.0      1.140000    142.572500     NaN   \n",
       "50%      176.000000        0.0      1.200000    682.505000     NaN   \n",
       "75%      176.000000        0.0      1.400000   3068.190000     NaN   \n",
       "max      270.000000        0.0      1.900000  59478.000000     NaN   \n",
       "\n",
       "           DECIMALS  \n",
       "count  11428.000000  \n",
       "mean       1.965698  \n",
       "std        0.259678  \n",
       "min        0.000000  \n",
       "25%        2.000000  \n",
       "50%        2.000000  \n",
       "75%        2.000000  \n",
       "max        2.000000  "
      ]
     },
     "execution_count": 15,
     "metadata": {},
     "output_type": "execute_result"
    }
   ],
   "source": [
    "stocks.describe()"
   ]
  },
  {
   "cell_type": "code",
   "execution_count": null,
   "id": "f9656725-de04-449a-8743-2aa11e956cfe",
   "metadata": {},
   "outputs": [],
   "source": []
  }
 ],
 "metadata": {
  "kernelspec": {
   "display_name": "Python 3 (ipykernel)",
   "language": "python",
   "name": "python3"
  },
  "language_info": {
   "codemirror_mode": {
    "name": "ipython",
    "version": 3
   },
   "file_extension": ".py",
   "mimetype": "text/x-python",
   "name": "python",
   "nbconvert_exporter": "python",
   "pygments_lexer": "ipython3",
   "version": "3.11.5"
  }
 },
 "nbformat": 4,
 "nbformat_minor": 5
}
