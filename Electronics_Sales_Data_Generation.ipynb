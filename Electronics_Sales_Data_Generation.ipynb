{
 "cells": [
  {
   "cell_type": "code",
   "execution_count": 1,
   "id": "6ebb26e9-5882-4dcd-9603-463ab174d256",
   "metadata": {
    "tags": []
   },
   "outputs": [],
   "source": [
    "import pandas as pd\n",
    "import numpy as np\n",
    "import random\n",
    "from datetime import datetime, timedelta\n",
    "\n",
    "# Function to generate random dates within a range\n",
    "def random_dates(start_date, end_date, n=10):\n",
    "    date_range = end_date - start_date\n",
    "    random_dates = [start_date + timedelta(days=random.randint(0, date_range.days)) for _ in range(n)]\n",
    "    return random_dates\n",
    "\n",
    "# Function to generate synthetic sales data\n",
    "def generate_sales_data(num_records):\n",
    "    start_date = datetime(2022, 1, 1)\n",
    "    end_date = datetime(2023, 12, 31)\n",
    "\n",
    "    dates = random_dates(start_date, end_date, num_records)\n",
    "    store_keys = random.choices(range(1, 8), k=num_records)\n",
    "    product_keys = random.choices(['P{:03d}'.format(i) for i in range(1, 51)], k=num_records)\n",
    "    departments = random.choices(['Televisions', 'Smartphones', 'Gaming Consoles', 'Audio Devices', 'Computing Devices', 'Imaging Devices', 'Drones', 'Wearable Tech', 'E-readers', 'Action Cameras', 'Smart Home', 'VR Devices'], k=num_records)\n",
    "    descriptions = ['Product {}'.format(i) for i in range(1, 51)]\n",
    "\n",
    "    transaction_numbers = ['TN{:04d}'.format(i) for i in range(1, num_records + 1)]\n",
    "    sales_amounts = [round(random.uniform(100, 5000), 2) for _ in range(num_records)]\n",
    "    units_sold = [random.randint(1, 10) for _ in range(num_records)]\n",
    "\n",
    "    sales_data = pd.DataFrame({\n",
    "        'Date Key': [date.strftime('%Y%m%d') for date in dates],\n",
    "        'Store Key': store_keys,\n",
    "        'Product Key': product_keys,\n",
    "        'Product Department': departments,\n",
    "        'Product Description': random.choices(descriptions, k=num_records),\n",
    "        'Transaction No.#': transaction_numbers,\n",
    "        'Sales Amount(CAD)': sales_amounts,\n",
    "        'Units Sold': units_sold\n",
    "    })\n",
    "\n",
    "    return sales_data\n",
    "\n",
    "# Generate 500 sales records\n",
    "sales_data = generate_sales_data(500)\n",
    "\n",
    "# Save to CSV\n",
    "sales_data.to_csv('synthetic_sales_data.csv', index=False)\n"
   ]
  },
  {
   "cell_type": "code",
   "execution_count": null,
   "id": "150639f2-c0e2-4384-9c50-4ac278bac9ad",
   "metadata": {},
   "outputs": [],
   "source": []
  }
 ],
 "metadata": {
  "kernelspec": {
   "display_name": "Python 3 (ipykernel)",
   "language": "python",
   "name": "python3"
  },
  "language_info": {
   "codemirror_mode": {
    "name": "ipython",
    "version": 3
   },
   "file_extension": ".py",
   "mimetype": "text/x-python",
   "name": "python",
   "nbconvert_exporter": "python",
   "pygments_lexer": "ipython3",
   "version": "3.11.5"
  }
 },
 "nbformat": 4,
 "nbformat_minor": 5
}
